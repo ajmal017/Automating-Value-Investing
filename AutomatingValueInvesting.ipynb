{
 "cells": [
  {
   "cell_type": "code",
   "execution_count": 3,
   "metadata": {},
   "outputs": [],
   "source": [
    "import requests\n",
    "import re\n",
    "from bs4 import BeautifulSoup\n",
    "import pandas as pd\n",
    "data=pd.read_csv(\"Companies.csv\")\n",
    "companynames=list(data.iloc[:,0])\n",
    "links=list(data.iloc[:,1])\n",
    "import numpy as np\n",
    "from tqdm.notebook import tqdm\n",
    "#links for old format page\n",
    "linkso=[]\n",
    "for i in range(0,len(links)):\n",
    "    a=links[i].find('VI')\n",
    "    b=links[i][:a]+links[i][a+2:]\n",
    "    linkso.append(b)\n",
    "\n",
    "#links for profit-loss page\n",
    "linkso_pl=[]\n",
    "for i in range(0,len(linkso)):\n",
    "    a=linkso[i].find('balance-sheet')\n",
    "    b=linkso[i][:a]+'profit-loss'+linkso[i][a+13:]\n",
    "    linkso_pl.append(b)"
   ]
  },
  {
   "cell_type": "code",
   "execution_count": 9,
   "metadata": {},
   "outputs": [
    {
     "data": {
      "text/plain": [
       "['https://www.moneycontrol.com/financials/adaniportsspecialeconomiczone/profit-loss/MPS#MPS',\n",
       " 'https://www.moneycontrol.com/financials/asianpaints/profit-loss/AP31#AP31',\n",
       " 'https://www.moneycontrol.com/financials/bajajauto/profit-loss/BA10#BA10',\n",
       " 'https://www.moneycontrol.com/financials/bajajfinance/profit-loss/BAF#BAF',\n",
       " 'https://www.moneycontrol.com/financials/bhartiairtel/profit-loss/BA08#BA08',\n",
       " 'https://www.moneycontrol.com/financials/bharatpetroleumcorporation/profit-loss/BPC#BPC',\n",
       " 'https://www.moneycontrol.com/financials/britanniaindustries/profit-loss/BI#BI',\n",
       " 'https://www.moneycontrol.com/financials/cipla/profit-loss/C#C',\n",
       " 'https://www.moneycontrol.com/financials/coalindia/profit-loss/CI11#CI11',\n",
       " 'https://www.moneycontrol.com/financials/drreddyslaboratories/profit-loss/DRL#DRL',\n",
       " 'https://www.moneycontrol.com/financials/eichermotors/profit-loss/EM#EM',\n",
       " 'https://www.moneycontrol.com/financials/gailindia/profit-loss/GAI#GAI',\n",
       " 'https://www.moneycontrol.com/financials/grasimindustries/profit-loss/GI01#GI01',\n",
       " 'https://www.moneycontrol.com/financials/hcltechnologies/profit-loss/HCL02#HCL02',\n",
       " 'https://www.moneycontrol.com/financials/housingdevelopmentfinancecorporation/profit-loss/HDF#HDF',\n",
       " 'https://www.moneycontrol.com/financials/heromotocorp/profit-loss/HHM#HHM',\n",
       " 'https://www.moneycontrol.com/financials/hindalcoindustries/profit-loss/HI#HI',\n",
       " 'https://www.moneycontrol.com/financials/hindustanunilever/profit-loss/HU#HU',\n",
       " 'https://www.moneycontrol.com/financials/indiabullshousingfinance/profit-loss/IHF01#IHF01',\n",
       " 'https://www.moneycontrol.com/financials/bhartiinfratel/profit-loss/BI14#BI14',\n",
       " 'https://www.moneycontrol.com/financials/indianoilcorporation/profit-loss/IOC#IOC',\n",
       " 'https://www.moneycontrol.com/financials/itc/profit-loss/ITC#ITC',\n",
       " 'https://www.moneycontrol.com/financials/jswsteel/profit-loss/JSW01#JSW01',\n",
       " 'https://www.moneycontrol.com/financials/larsentoubro/profit-loss/LT#LT',\n",
       " 'https://www.moneycontrol.com/financials/mahindramahindra/profit-loss/MM#MM',\n",
       " 'https://www.moneycontrol.com/financials/marutisuzukiindia/profit-loss/MS24#MS24',\n",
       " 'https://www.moneycontrol.com/financials/ntpc/profit-loss/NTP#NTP',\n",
       " 'https://www.moneycontrol.com/financials/oilnaturalgascorporation/profit-loss/ONG#ONG',\n",
       " 'https://www.moneycontrol.com/financials/powergridcorporationindia/profit-loss/PGC#PGC',\n",
       " 'https://www.moneycontrol.com/financials/relianceindustries/profit-loss/RI#RI',\n",
       " 'https://www.moneycontrol.com/financials/sunpharmaceuticalindustries/profit-loss/SPI#SPI',\n",
       " 'https://www.moneycontrol.com/financials/tatamotors/profit-loss/TM03#TM03',\n",
       " 'https://www.moneycontrol.com/financials/tatasteel/profit-loss/TIS#TIS',\n",
       " 'https://www.moneycontrol.com/financials/tataconsultancyservices/profit-loss/TCS#TCS',\n",
       " 'https://www.moneycontrol.com/financials/techmahindra/profit-loss/TM4#TM4',\n",
       " 'https://www.moneycontrol.com/financials/titancompany/profit-loss/TI01#TI01',\n",
       " 'https://www.moneycontrol.com/financials/ultratechcement/profit-loss/UTC01#UTC01',\n",
       " 'https://www.moneycontrol.com/financials/upl/profit-loss/UP04#UP04',\n",
       " 'https://www.moneycontrol.com/financials/vedanta/profit-loss/SG#SG',\n",
       " 'https://www.moneycontrol.com/financials/wipro/profit-loss/W#W',\n",
       " 'https://www.moneycontrol.com/financials/zeeentertainmententerprises/profit-loss/ZEE#ZEE']"
      ]
     },
     "execution_count": 9,
     "metadata": {},
     "output_type": "execute_result"
    }
   ],
   "source": [
    "linkso_pl"
   ]
  },
  {
   "cell_type": "code",
   "execution_count": 4,
   "metadata": {},
   "outputs": [
    {
     "data": {
      "application/vnd.jupyter.widget-view+json": {
       "model_id": "01f03fc091704e71af5b365b74f175af",
       "version_major": 2,
       "version_minor": 0
      },
      "text/plain": [
       "HBox(children=(IntProgress(value=0, max=41), HTML(value='')))"
      ]
     },
     "metadata": {},
     "output_type": "display_data"
    },
    {
     "name": "stdout",
     "output_type": "stream",
     "text": [
      "\n"
     ]
    }
   ],
   "source": [
    "''' Scrapping Net Sales'''\n",
    "#As the details of net sales was not provided, the following banks were excluded from the file:\n",
    "#HDFC bank, ICICI bank, Indusland bank, Kotak Mahindra Bank, Yes Bank, SBI\n",
    "#As interestt cover ratio was not provided, Bajaj Finserv and Infosys were also excluded.\n",
    "\n",
    "netsales_list=[]\n",
    "for i in tqdm(range(0,len(linkso_pl))):\n",
    "    pageold=requests.get(linkso_pl[i])\n",
    "    soup = BeautifulSoup(pageold.text, 'html.parser')\n",
    "    about=soup.findAll('table')\n",
    "    about=str(about)\n",
    "    a=re.findall('<td>Net Sales</td>\\n.*</td>',about)\n",
    "    netsales=re.findall('>[0-9].*<',str(a))\n",
    "    netsales=netsales[0][1:len(netsales[0])-1]\n",
    "    if(len(netsales)>6):\n",
    "        a=netsales.find(',')\n",
    "        netsales_list.append(float(netsales[:a]+netsales[a+1:]))\n",
    "    else:\n",
    "        netsales_list.append(float(netsales))"
   ]
  },
  {
   "cell_type": "code",
   "execution_count": 10,
   "metadata": {},
   "outputs": [
    {
     "data": {
      "text/plain": [
       "[4643.28,\n",
       " 16391.78,\n",
       " 29918.65,\n",
       " 17383.97,\n",
       " 54317.1,\n",
       " 284382.95,\n",
       " 10986.68,\n",
       " 12659.15,\n",
       " 934.3,\n",
       " 11850.4,\n",
       " 9794.48,\n",
       " 75126.3,\n",
       " 20550.43,\n",
       " 32606.0,\n",
       " 43348.04,\n",
       " 33650.54,\n",
       " 45749.16,\n",
       " 38785.0,\n",
       " 15407.35,\n",
       " 6738.3,\n",
       " 527692.69,\n",
       " 44995.65,\n",
       " 64262.0,\n",
       " 86987.86,\n",
       " 53614.0,\n",
       " 75610.6,\n",
       " 90307.43,\n",
       " 109609.42,\n",
       " 34119.12,\n",
       " 335978.0,\n",
       " 12531.93,\n",
       " 69202.76,\n",
       " 70610.71,\n",
       " 131306.0,\n",
       " 29225.4,\n",
       " 20009.64,\n",
       " 40649.17,\n",
       " 9641.0,\n",
       " 35858.0,\n",
       " 50407.0,\n",
       " 6857.9]"
      ]
     },
     "execution_count": 10,
     "metadata": {},
     "output_type": "execute_result"
    }
   ],
   "source": [
    "netsales_list"
   ]
  },
  {
   "cell_type": "code",
   "execution_count": 11,
   "metadata": {},
   "outputs": [
    {
     "data": {
      "application/vnd.jupyter.widget-view+json": {
       "model_id": "8f2853514fc14e6d8b5d37d8fa6a8f30",
       "version_major": 2,
       "version_minor": 0
      },
      "text/plain": [
       "HBox(children=(IntProgress(value=0, max=41), HTML(value='')))"
      ]
     },
     "metadata": {},
     "output_type": "display_data"
    },
    {
     "name": "stdout",
     "output_type": "stream",
     "text": [
      "\n"
     ]
    },
    {
     "data": {
      "application/vnd.jupyter.widget-view+json": {
       "model_id": "2136840ef16a4ac0a4b7972cd66f9a59",
       "version_major": 2,
       "version_minor": 0
      },
      "text/plain": [
       "HBox(children=(IntProgress(value=1, bar_style='info', max=1), HTML(value='')))"
      ]
     },
     "metadata": {},
     "output_type": "display_data"
    },
    {
     "name": "stdout",
     "output_type": "stream",
     "text": [
      "\n"
     ]
    }
   ],
   "source": [
    "'''  The Net Sales of each company is saved in the netsales list in Crores.\n",
    "     Now filtering out the companies with less than 250 cr. Net Sales.'''\n",
    "filtersales=[]\n",
    "filtercomp=[]\n",
    "filterlink=[]\n",
    "filterolink=[]\n",
    "for i in tqdm(range(0,len(netsales_list))):\n",
    "    if(netsales_list[i]<250.00):\n",
    "        filtersales.append(netsales_list[i])\n",
    "        filtercomp.append(companynames[i])\n",
    "        filterlink.append(links[i])\n",
    "        filterolink.append(linkso[i])\n",
    "for i in tqdm(range(0,len(filtersales))):\n",
    "    netsales_list.remove(filtersales[i])\n",
    "    companynames.remove(filtercomp[i])\n",
    "    links.remove(filterlink[i])\n",
    "    linkso.remove(filterolink[i])"
   ]
  },
  {
   "cell_type": "code",
   "execution_count": 15,
   "metadata": {},
   "outputs": [
    {
     "data": {
      "text/plain": [
       "[]"
      ]
     },
     "execution_count": 15,
     "metadata": {},
     "output_type": "execute_result"
    }
   ],
   "source": [
    "filterolink"
   ]
  },
  {
   "cell_type": "code",
   "execution_count": null,
   "metadata": {},
   "outputs": [],
   "source": []
  },
  {
   "cell_type": "code",
   "execution_count": 16,
   "metadata": {},
   "outputs": [
    {
     "data": {
      "application/vnd.jupyter.widget-view+json": {
       "model_id": "a371000c260748de8bbe625360100f60",
       "version_major": 2,
       "version_minor": 0
      },
      "text/plain": [
       "HBox(children=(IntProgress(value=0, max=41), HTML(value='')))"
      ]
     },
     "metadata": {},
     "output_type": "display_data"
    },
    {
     "name": "stdout",
     "output_type": "stream",
     "text": [
      "\n"
     ]
    },
    {
     "data": {
      "application/vnd.jupyter.widget-view+json": {
       "model_id": "e0cb5c7677a34243b02161c6c31e6b13",
       "version_major": 2,
       "version_minor": 0
      },
      "text/plain": [
       "HBox(children=(IntProgress(value=0, max=41), HTML(value='')))"
      ]
     },
     "metadata": {},
     "output_type": "display_data"
    },
    {
     "name": "stdout",
     "output_type": "stream",
     "text": [
      "\n"
     ]
    }
   ],
   "source": [
    "''' Scraping debt equity Ratio '''\n",
    "\n",
    "#links for ratio page\n",
    "linkso_r=[]\n",
    "for i in tqdm(range(0,len(linkso))):\n",
    "    a=linkso[i].find('balance-sheet')\n",
    "    b=linkso[i][:a]+'ratios'+linkso[i][a+13:]\n",
    "    linkso_r.append(b)\n",
    "debtequity_ratio=[]\n",
    "for i in tqdm(range(0,len(linkso_r))):\n",
    "    pageold=requests.get(linkso_r[i])\n",
    "    soup = BeautifulSoup(pageold.text, 'html.parser')\n",
    "    about=soup.findAll('table')\n",
    "    about=str(about)\n",
    "    a=re.findall('<td>Debt Equity Ratio</td>\\n.*</td>',about)\n",
    "    der=re.findall('>[0-9].*<',str(a))\n",
    "    if(len(der)==0):\n",
    "        der=0\n",
    "    else:\n",
    "        der=der[0][1:len(der[0])-1]\n",
    "    debtequity_ratio.append(float(der))\n"
   ]
  },
  {
   "cell_type": "code",
   "execution_count": 10,
   "metadata": {},
   "outputs": [],
   "source": [
    "#Companies with Debt Equity Ratio greater than 0.3 are filtered \n",
    "\n",
    "filtersales=[]  \n",
    "filterder=[]\n",
    "filtercomp=[]\n",
    "filterlink=[]\n",
    "filterolink=[]\n",
    "for i in range(0,len(debtequity_ratio)):\n",
    "    if(debtequity_ratio[i]>0.3):\n",
    "        filterder.append(debtequity_ratio[i])\n",
    "        filtercomp.append(companynames[i])\n",
    "        filterlink.append(links[i])\n",
    "        filterolink.append(linkso[i])\n",
    "        filtersales.append(netsales_list[i])\n",
    "for i in range(0,len(filterder)):\n",
    "    debtequity_ratio.remove(filterder[i])\n",
    "    companynames.remove(filtercomp[i])\n",
    "    links.remove(filterlink[i])\n",
    "    linkso.remove(filterolink[i])\n",
    "    netsales_list.remove(filtersales[i])\n"
   ]
  },
  {
   "cell_type": "code",
   "execution_count": 11,
   "metadata": {},
   "outputs": [],
   "source": [
    "''' Scraping Interesr Coverage Ratio '''\n",
    "#links for ratio page\n",
    "linkso_r=[]\n",
    "for i in range(0,len(linkso)):\n",
    "    a=linkso[i].find('balance-sheet')\n",
    "    b=linkso[i][:a]+'ratios'+linkso[i][a+13:]\n",
    "    linkso_r.append(b)\n",
    "\n",
    "icr_list=[]\n",
    "for i in range(0,len(linkso_r)): \n",
    "    pageold=requests.get(linkso_r[i])\n",
    "    soup = BeautifulSoup(pageold.text, 'html.parser')\n",
    "    about=soup.findAll('table')\n",
    "    about=str(about)\n",
    "    a=re.findall('<td>Interest Cover</td>\\n.*</td>',about)\n",
    "    icr=re.findall('>[0-9].*<',str(a))\n",
    "    icr=icr[0][1:len(icr[0])-1]\n",
    "    if(len(icr)>6):\n",
    "        a=icr.find(',')\n",
    "        icr_list.append(float(icr[:a]+icr[a+1:]))\n",
    "    else:\n",
    "        icr_list.append(float(icr))\n",
    "\n",
    "\n",
    "filtericr=[]\n",
    "filtercomp=[]\n",
    "filterlink=[]\n",
    "filterolink=[]\n",
    "filtersales=[]\n",
    "filterder=[]\n",
    "for i in range(0,len(icr_list)):\n",
    "    if(icr_list[i]<4):\n",
    "        filtericr.append(icr_list[i])\n",
    "        filtercomp.append(companynames[i])\n",
    "        filterlink.append(links[i])\n",
    "        filterolink.append(linkso[i])\n",
    "        filtersales.append(netsales_list[i])\n",
    "        filterder.append(debtequity_ratio[i])\n",
    "for i in range(0,len(filtericr)):\n",
    "    icr_list.remove(filtericr[i])\n",
    "    companynames.remove(filtercomp[i])\n",
    "    links.remove(filterlink[i])\n",
    "    linkso.remove(filterolink[i])   \n",
    "    netsales_list.remove(filtersales[i])\n",
    "    debtequity_ratio.remove(filterder[i])"
   ]
  },
  {
   "cell_type": "code",
   "execution_count": 12,
   "metadata": {},
   "outputs": [],
   "source": [
    "''' Scraping Total Income'''\n",
    "\n",
    "links_pl=[]\n",
    "for i in range(0,len(links)):\n",
    "    a=links[i].find('balance-sheet')\n",
    "    b=links[i][:a]+'profit-loss'+links[i][a+13:]\n",
    "    links_pl.append(b)\n",
    "\n",
    "ti_list=[]\n",
    "for i in range(0,len(links_pl)):\n",
    "    pageold=requests.get(links_pl[i])\n",
    "    soup = BeautifulSoup(pageold.text, 'html.parser')\n",
    "    about=soup.findAll('table')\n",
    "    about=str(about)\n",
    "    a=re.findall('<td>Total Revenue</td>\\n.*</td>',about)\n",
    "    ti=re.findall('>[0-9].*<',str(a))\n",
    "    ti=ti[0][1:len(ti[0])-1]\n",
    "    if(len(ti)>6):\n",
    "        a=ti.find(',')\n",
    "        ti_list.append(float(ti[:a]+ti[a+1:]))\n",
    "    else:\n",
    "        ti_list.append(float(ti))\n"
   ]
  },
  {
   "cell_type": "code",
   "execution_count": 13,
   "metadata": {},
   "outputs": [],
   "source": [
    "''' Scraping Equity Share Capital'''\n",
    "tot_assets=[]\n",
    "current_lia=[]\n",
    "noncurrent_lia=[]\n",
    "\n",
    "for i in range(0,len(links)):\n",
    "    pageold=requests.get(links[i])\n",
    "    soup = BeautifulSoup(pageold.text, 'html.parser')\n",
    "    about=soup.findAll('table')\n",
    "    about=str(about)\n",
    "    a=re.findall('<td>Total Assets</td>\\n.*</td>',about)\n",
    "    totas=re.findall('>[0-9].*<',str(a))\n",
    "    totas=totas[0][1:len(totas[0])-1]\n",
    "    if(len(totas)>6):\n",
    "        a=totas.find(',')\n",
    "        tot_assets.append(float(totas[:a]+totas[a+1:]))\n",
    "    else:\n",
    "        tot_assets.append(float(totas))\n",
    "    \n",
    "    a=re.findall('<td>Total Non-Current Liabilities</td>\\n.*</td>',about)\n",
    "    totncl=re.findall('>[0-9].*<',str(a))\n",
    "    totncl=totncl[0][1:len(totncl[0])-1]\n",
    "    if(len(totncl)>6):\n",
    "        a=totncl.find(',')\n",
    "        noncurrent_lia.append(float(totncl[:a]+totncl[a+1:]))\n",
    "    else:\n",
    "        noncurrent_lia.append(float(totncl))\n",
    "    \n",
    "    a=re.findall('<td>Total Current Liabilities</td>\\n.*</td>',about)\n",
    "    totcl=re.findall('>[0-9].*<',str(a))\n",
    "    totcl=totcl[0][1:len(totcl[0])-1]\n",
    "    if(len(totcl)>6):\n",
    "        a=totcl.find(',')\n",
    "        current_lia.append(float(totcl[:a]+totcl[a+1:]))\n",
    "    else:\n",
    "        current_lia.append(float(totcl))\n",
    "    \n",
    "roe_list=np.array(ti_list)/(np.array(tot_assets)-np.array(current_lia)-np.array(noncurrent_lia))\n",
    "roe_list=roe_list.tolist()"
   ]
  },
  {
   "cell_type": "code",
   "execution_count": 14,
   "metadata": {},
   "outputs": [],
   "source": [
    "''' Scraping for PE'''\n",
    "\n",
    "links_r=[]\n",
    "for i in range(0,len(links)):\n",
    "    a=links[i].find('balance-sheet')\n",
    "    b=links[i][:a]+'ratios'+links[i][a+13:]\n",
    "    links_r.append(b)\n",
    "\n",
    "pricbv=[]\n",
    "bkvshr=[]\n",
    "for i in range(0,len(links_r)):\n",
    "    pageold=requests.get(links_r[i])\n",
    "    soup = BeautifulSoup(pageold.text, 'html.parser')\n",
    "    about=soup.findAll('table')\n",
    "    about=str(about)\n",
    "    a=re.findall('<td>Price/BV.*</td>\\n.*</td>',about)\n",
    "    pbv=re.findall('>[0-9].*<',str(a))\n",
    "    pbv=pbv[0][1:len(pbv[0])-1]\n",
    "    if(len(pbv)>6):\n",
    "        a=pbv.find(',')\n",
    "        pricbv.append(float(pbv[:a]+pbv[a+1:]))\n",
    "    else:\n",
    "        pricbv.append(float(pbv))\n",
    "        \n",
    "    a=re.findall('<td>Book Value.*/Share.*</td>\\n.*</td>',about)\n",
    "    a=a[0]\n",
    "    pbvs=re.findall('>[0-9].*<',str(a))\n",
    "    pbvs=pbvs[0][1:len(pbvs[0])-1]\n",
    "    if(len(pbvs)>6):\n",
    "        a=pbvs.find(',')\n",
    "        bkvshr.append(float(pbvs[:a]+pbvs[a+1:]))\n",
    "    else:\n",
    "        bkvshr.append(float(pbvs))\n",
    "\n",
    "eps_list=[]\n",
    "for i in range(0,len(links_pl)):\n",
    "    pageold=requests.get(links_pl[i])\n",
    "    soup = BeautifulSoup(pageold.text, 'html.parser')\n",
    "    about=soup.findAll('table')\n",
    "    about=str(about)\n",
    "    a=re.findall('<td>Basic EPS.*</td>\\n.*</td>',about)\n",
    "    eps=re.findall('>[0-9].*<',str(a))\n",
    "    eps=eps[0][1:len(eps[0])-1]\n",
    "    if(len(eps)>6):\n",
    "        a=eps.find(',')\n",
    "        eps_list.append(float(eps[:a]+eps[a+1:]))\n",
    "    else:\n",
    "        eps_list.append(float(eps))\n",
    "\n",
    "\n",
    "pe=np.array(bkvshr)*np.array(pricbv)/np.array(eps_list)\n",
    "pe=pe.tolist()"
   ]
  },
  {
   "cell_type": "code",
   "execution_count": 15,
   "metadata": {},
   "outputs": [],
   "source": [
    "''' Filter PE values '''\n",
    "filtersales=[]  \n",
    "filterder=[]\n",
    "filtericr=[]\n",
    "filterroe=[]\n",
    "filterpe=[]\n",
    "filtercomp=[]\n",
    "filterlink=[]\n",
    "filterolink=[]\n",
    "for i in range(0,len(pe)):\n",
    "    if(pe[i]>25):\n",
    "        filtersales.append(netsales_list[i])\n",
    "        filterder.append(debtequity_ratio[i])\n",
    "        filtericr.append(icr_list[i])\n",
    "        filterroe.append(roe_list[i])\n",
    "        filterpe.append(pe[i])\n",
    "        filtercomp.append(companynames[i])\n",
    "        filterlink.append(links[i])\n",
    "\n",
    "for i in range(0,len(filterpe)):\n",
    "    netsales_list.remove(filtersales[i])\n",
    "    debtequity_ratio.remove(filterder[i])\n",
    "    icr_list.remove(filtericr[i])\n",
    "    roe_list.remove(filterroe[i])\n",
    "    pe.remove(filterpe[i])\n",
    "    companynames.remove(filtercomp[i])\n",
    "    links.remove(filterlink[i])"
   ]
  },
  {
   "cell_type": "code",
   "execution_count": 16,
   "metadata": {},
   "outputs": [],
   "source": [
    "final=list(zip(companynames,netsales_list,debtequity_ratio,icr_list,roe_list,pe))\n",
    "\n",
    "filtered_list=pd.DataFrame(final,columns=['Company','Net Sales in cr.','Debt to Equity Ratio','Interest Coverage Ratio','Return On Equity (ROE)','P/E Ratio'])\n"
   ]
  },
  {
   "cell_type": "code",
   "execution_count": 17,
   "metadata": {},
   "outputs": [
    {
     "name": "stdout",
     "output_type": "stream",
     "text": [
      "       Company  Net Sales in cr.  Debt to Equity Ratio  \\\n",
      "0   BAJAJ-AUTO          30249.96                  0.02   \n",
      "1        CIPLA          12374.01                  0.00   \n",
      "2    COALINDIA            934.30                  0.00   \n",
      "3         GAIL          75126.30                  0.00   \n",
      "4      HCLTECH          26012.00                  0.00   \n",
      "5   HEROMOTOCO          33650.54                  0.07   \n",
      "6     INFRATEL           6821.70                  0.00   \n",
      "7          M&M          53614.00                  0.11   \n",
      "8         ONGC         109609.42                  0.00   \n",
      "9        TECHM          27219.60                  0.00   \n",
      "10       WIPRO          48123.80                  0.10   \n",
      "\n",
      "    Interest Coverage Ratio  Return On Equity (ROE)  P/E Ratio  \n",
      "0                   1420.90                1.464620  18.024956  \n",
      "1                    147.90                0.820657  22.553348  \n",
      "2                    586.50                0.820364  14.040622  \n",
      "3                     68.93                1.738852  13.025576  \n",
      "4                    621.69                0.881008  18.215071  \n",
      "5                    583.64                2.671033  15.077473  \n",
      "6                     70.28                0.541990  20.848503  \n",
      "7                     57.04                1.616610  16.673879  \n",
      "8                     17.03                0.577009   7.658025  \n",
      "9                    126.92                1.288050  17.424361  \n",
      "10                    19.80                1.026328  20.093496  \n"
     ]
    }
   ],
   "source": [
    "filtered_list"
   ]
  },
  {
   "cell_type": "code",
   "execution_count": null,
   "metadata": {},
   "outputs": [],
   "source": []
  }
 ],
 "metadata": {
  "kernelspec": {
   "display_name": "Python 3",
   "language": "python",
   "name": "python3"
  },
  "language_info": {
   "codemirror_mode": {
    "name": "ipython",
    "version": 3
   },
   "file_extension": ".py",
   "mimetype": "text/x-python",
   "name": "python",
   "nbconvert_exporter": "python",
   "pygments_lexer": "ipython3",
   "version": "3.7.4"
  }
 },
 "nbformat": 4,
 "nbformat_minor": 2
}
